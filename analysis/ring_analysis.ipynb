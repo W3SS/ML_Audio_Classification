{
 "cells": [
  {
   "cell_type": "code",
   "execution_count": null,
   "metadata": {
    "collapsed": false
   },
   "outputs": [],
   "source": [
    "%matplotlib inline\n",
    "# http://stackoverflow.com/questions/29452582/matplotlib-valueerror-width-and-height-must-each-be-below-32768-in-ipython-no\n",
    "%config InlineBackend.print_figure_kwargs={'bbox_inches':None}\n",
    "\n",
    "import numpy as np\n",
    "import matplotlib.pyplot as plt\n",
    "import librosa\n",
    "from IPython.display import Image, display, Audio"
   ]
  },
  {
   "cell_type": "code",
   "execution_count": null,
   "metadata": {
    "collapsed": false
   },
   "outputs": [],
   "source": [
    "import os\n",
    "import sys\n",
    "cwd = os.getcwd()\n",
    "preprocess_path = os.path.abspath(os.path.join(cwd, '../preprocess/scripts'))\n",
    "sys.path.append(preprocess_path)\n",
    "from featurize import preprocess, extract_chunks, get_local_maxima_idx"
   ]
  },
  {
   "cell_type": "code",
   "execution_count": null,
   "metadata": {
    "collapsed": true
   },
   "outputs": [],
   "source": [
    "def classify_rings(smooth_data, lmax_idx):\n",
    "    '''classify chunks as rings or non-rings'''\n",
    "    SAMPLE_RATE = 8000\n",
    "    RING_SEP_THRESHOLD = 2000\n",
    "    RING_AMP_DIFF_THRESHOLD = 0.02\n",
    "    \n",
    "    ring_ref_amp = 0\n",
    "    rings = np.zeros_like(lmax_idx)\n",
    "    local_maxima = smooth_data[lmax_idx]\n",
    "    # Take the time difference between each local maxima of the signal\n",
    "    diff = np.diff(lmax_idx, n=1)\n",
    "\n",
    "    ring_candidates = np.where((diff >= (SAMPLE_RATE*5)-RING_SEP_THRESHOLD) &\n",
    "                               (diff <= (SAMPLE_RATE*5)+RING_SEP_THRESHOLD))[0]\n",
    "    print('ring candidates: {}'.format(len(ring_candidates)+1))\n",
    "    for idx in ring_candidates:\n",
    "        # Check differences between the local maximum amplitudes is small\n",
    "        if not ring_ref_amp:\n",
    "            ring_ref_amp = local_maxima[idx]\n",
    "        amp_lower = (ring_ref_amp - (RING_AMP_DIFF_THRESHOLD))\n",
    "        amp_upper = (ring_ref_amp + (RING_AMP_DIFF_THRESHOLD))\n",
    "        if (amp_lower <= local_maxima[idx+1] <= amp_upper):\n",
    "            rings[idx] = 1\n",
    "            rings[idx+1] = 1\n",
    "        else:\n",
    "            print('chunk in pos {} with amp: {} did not meet the amplitude criteria'.format(lmax_idx[idx],\n",
    "                                                                                            local_maxima[idx]))\n",
    "    return rings"
   ]
  },
  {
   "cell_type": "code",
   "execution_count": null,
   "metadata": {
    "collapsed": true
   },
   "outputs": [],
   "source": [
    "# known to have good rings:\n",
    "wav_path = '/Users/jjelosua/Developer/lanacion/ML_nisman/data/output/wavs/train/B-1009-2012-12-26-121627-4.wav'\n",
    "img_path = '/Users/jjelosua/Developer/lanacion/ML_nisman/data/output/images/train/B-1009-2012-12-26-121627-4.png'"
   ]
  },
  {
   "cell_type": "code",
   "execution_count": null,
   "metadata": {
    "collapsed": false
   },
   "outputs": [],
   "source": [
    "im = Image(filename=img_path)\n",
    "display(im)"
   ]
  },
  {
   "cell_type": "code",
   "execution_count": null,
   "metadata": {
    "collapsed": false
   },
   "outputs": [],
   "source": [
    "# load audio file with librosa\n",
    "data, sr = librosa.load(wav_path, sr=None)"
   ]
  },
  {
   "cell_type": "code",
   "execution_count": null,
   "metadata": {
    "collapsed": false
   },
   "outputs": [],
   "source": [
    "# Play it back with IPython.display.Audio!\n",
    "Audio(data=data, rate=sr)"
   ]
  },
  {
   "cell_type": "code",
   "execution_count": null,
   "metadata": {
    "collapsed": false
   },
   "outputs": [],
   "source": [
    "smooth_data = preprocess(wav_path)\n",
    "silences, nonsilences = extract_chunks(smooth_data)\n",
    "plt.plot(smooth_data)"
   ]
  },
  {
   "cell_type": "code",
   "execution_count": null,
   "metadata": {
    "collapsed": false
   },
   "outputs": [],
   "source": [
    "# Classify rings\n",
    "lmax_idx = get_local_maxima_idx(nonsilences)\n",
    "rings = classify_rings(smooth_data, lmax_idx)\n",
    "rings"
   ]
  },
  {
   "cell_type": "code",
   "execution_count": null,
   "metadata": {
    "collapsed": false
   },
   "outputs": [],
   "source": [
    "# Plot audio with detected rings\n",
    "smooth_data = preprocess(wav_path)\n",
    "silences, nonsilences = extract_chunks(smooth_data)\n",
    "plt.ylim([0, 1.2])\n",
    "for i, (pos, ns) in enumerate(nonsilences):\n",
    "    x = pos\n",
    "    # Check if it is a ring\n",
    "    if rings[i]:\n",
    "        plt.text(x=x-8000, y=1.1, s='RING')\n",
    "    else:\n",
    "        plt.text(x=x+1000, y=1.1, s=i)\n",
    "plt.plot(smooth_data)"
   ]
  },
  {
   "cell_type": "code",
   "execution_count": null,
   "metadata": {
    "collapsed": true
   },
   "outputs": [],
   "source": []
  }
 ],
 "metadata": {
  "kernelspec": {
   "display_name": "Python 3",
   "language": "python",
   "name": "python3"
  },
  "language_info": {
   "codemirror_mode": {
    "name": "ipython",
    "version": 3
   },
   "file_extension": ".py",
   "mimetype": "text/x-python",
   "name": "python",
   "nbconvert_exporter": "python",
   "pygments_lexer": "ipython3",
   "version": "3.4.3"
  }
 },
 "nbformat": 4,
 "nbformat_minor": 0
}
