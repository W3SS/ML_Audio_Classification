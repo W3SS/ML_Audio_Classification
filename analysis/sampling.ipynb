{
 "cells": [
  {
   "cell_type": "code",
   "execution_count": 1,
   "metadata": {
    "collapsed": true
   },
   "outputs": [],
   "source": [
    "%matplotlib inline\n",
    "\n",
    "import pandas as pd\n",
    "import numpy as np"
   ]
  },
  {
   "cell_type": "code",
   "execution_count": 2,
   "metadata": {
    "collapsed": true
   },
   "outputs": [],
   "source": [
    "def load_data(dataset):\n",
    "    df = pd.read_csv('{}/{}.csv'.format('../data/input',dataset))\n",
    "    \n",
    "    return df"
   ]
  },
  {
   "cell_type": "markdown",
   "metadata": {},
   "source": [
    "## Load data"
   ]
  },
  {
   "cell_type": "code",
   "execution_count": 3,
   "metadata": {
    "collapsed": false
   },
   "outputs": [],
   "source": [
    "audios = load_data('labeled_audios')\n",
    "# audios.head()"
   ]
  },
  {
   "cell_type": "code",
   "execution_count": 4,
   "metadata": {
    "collapsed": false
   },
   "outputs": [],
   "source": [
    "unl_audios = load_data('unlabeled_audios')\n",
    "# unl_audios.head()"
   ]
  },
  {
   "cell_type": "code",
   "execution_count": 5,
   "metadata": {
    "collapsed": false
   },
   "outputs": [
    {
     "data": {
      "text/html": [
       "<div>\n",
       "<table border=\"1\" class=\"dataframe\">\n",
       "  <thead>\n",
       "    <tr style=\"text-align: right;\">\n",
       "      <th></th>\n",
       "      <th>FECHA</th>\n",
       "      <th>Document Title</th>\n",
       "      <th>Document Url</th>\n",
       "      <th>answer_El audio parece estar relacionado con:</th>\n",
       "      <th>answer_Más información (Opcional)</th>\n",
       "      <th>answer_Palabras clave/ otros nombres/ lugares (Opcional)</th>\n",
       "      <th>Nuevos Comentarios</th>\n",
       "      <th>Origen</th>\n",
       "      <th>Destino</th>\n",
       "      <th>Datos de la celda Calle</th>\n",
       "      <th>PERSONAS</th>\n",
       "      <th>LUGARES</th>\n",
       "      <th>TEMAS</th>\n",
       "      <th>columbia_words</th>\n",
       "    </tr>\n",
       "  </thead>\n",
       "  <tbody>\n",
       "    <tr>\n",
       "      <th>0</th>\n",
       "      <td>5/14/2013</td>\n",
       "      <td>B-1009-2013-05-14-131007-12.mp3</td>\n",
       "      <td>http://s3.amazonaws.com/archivo.lanacion.com.a...</td>\n",
       "      <td>Pacto con Irán, Causa AMIA, Irán, Israel, Vene...</td>\n",
       "      <td>\"Le dije todas las propuestas a delia y el ya ...</td>\n",
       "      <td>NaN</td>\n",
       "      <td>que fernando le digo a persico. no es de gob a...</td>\n",
       "      <td>1132384699</td>\n",
       "      <td>9.890000e+11</td>\n",
       "      <td>Arevalo</td>\n",
       "      <td>heshman, D'elia, Cancilleria, Cuervo Larroque,...</td>\n",
       "      <td>teheran</td>\n",
       "      <td>comercio, trigo, soja, arroz</td>\n",
       "      <td>cuervo, larroque</td>\n",
       "    </tr>\n",
       "    <tr>\n",
       "      <th>1</th>\n",
       "      <td>5/20/2013</td>\n",
       "      <td>B-1009-2013-05-20-153449-10.mp3</td>\n",
       "      <td>http://s3.amazonaws.com/archivo.lanacion.com.a...</td>\n",
       "      <td>Pacto con Irán, Causa AMIA, Irán, Israel, Vene...</td>\n",
       "      <td>audio del acuerdo parlamentario con Irán- Audi...</td>\n",
       "      <td>Luis D´Ellia- Alejandro \"Yussuf\" Khalil, escuh...</td>\n",
       "      <td>Luis d'elia y yussuf escuchan audio de una ent...</td>\n",
       "      <td>1132384699</td>\n",
       "      <td>1.154097e+09</td>\n",
       "      <td>Arevalo</td>\n",
       "      <td>Luis d'elia, ali pagdaman, encargado de negoci...</td>\n",
       "      <td>iran</td>\n",
       "      <td>memorandum, acuerdo parlamentario</td>\n",
       "      <td>iran</td>\n",
       "    </tr>\n",
       "    <tr>\n",
       "      <th>2</th>\n",
       "      <td>5/20/2013</td>\n",
       "      <td>B-1009-2013-05-20-132253-6.mp3</td>\n",
       "      <td>http://s3.amazonaws.com/archivo.lanacion.com.a...</td>\n",
       "      <td>Pacto con Irán, Causa AMIA, Irán, Israel, Vene...</td>\n",
       "      <td>\"Los dólares también estaban en la embajada\". ...</td>\n",
       "      <td>Eduardo, \"el gordo\"</td>\n",
       "      <td>estan dispuestos a mandar los jefes de YPF a c...</td>\n",
       "      <td>1132384699</td>\n",
       "      <td>9.890000e+11</td>\n",
       "      <td>Av. Diaz Velez</td>\n",
       "      <td>abdul karim, sheik, daniel, el gordo, d'elia, ...</td>\n",
       "      <td>embajada</td>\n",
       "      <td>memorandum, YPF, petroleo</td>\n",
       "      <td>abdul karim, sheik, daniel, el gordo, d'elia, ...</td>\n",
       "    </tr>\n",
       "    <tr>\n",
       "      <th>3</th>\n",
       "      <td>5/20/2013</td>\n",
       "      <td>B-1009-2013-05-20-133130-8.mp3</td>\n",
       "      <td>http://s3.amazonaws.com/archivo.lanacion.com.a...</td>\n",
       "      <td>Pacto con Irán, Causa AMIA, Irán, Israel, Vene...</td>\n",
       "      <td>relaciones bilaterales y comercio petróleo x g...</td>\n",
       "      <td>De Vido Min 5:15</td>\n",
       "      <td>hay 4 o 5 candidatos a presidente de iran que ...</td>\n",
       "      <td>1132384699</td>\n",
       "      <td>9.890000e+11</td>\n",
       "      <td>Ravignani</td>\n",
       "      <td>abdul karim, de vido, cancilleria, YPF</td>\n",
       "      <td>Caracas, Buenos Aires</td>\n",
       "      <td>memorandum, relacines comerciales, YPF, estado...</td>\n",
       "      <td>granos, petroleo, de vido, devido</td>\n",
       "    </tr>\n",
       "    <tr>\n",
       "      <th>4</th>\n",
       "      <td>5/15/2013</td>\n",
       "      <td>B-1009-2013-05-15-105815-4.mp3</td>\n",
       "      <td>http://s3.amazonaws.com/archivo.lanacion.com.a...</td>\n",
       "      <td>Otros temas interesantes para investigar (se h...</td>\n",
       "      <td>\"estuve hablando con funcionarios del gobierno...</td>\n",
       "      <td>oscar parrilli, funcionarios,</td>\n",
       "      <td>nos vemos en la marcha</td>\n",
       "      <td>1132384699</td>\n",
       "      <td>1.161270e+09</td>\n",
       "      <td>Ravignani</td>\n",
       "      <td>salam, namir, carloncho, funcionarios de gobie...</td>\n",
       "      <td>NaN</td>\n",
       "      <td>funcionarios</td>\n",
       "      <td>parrili, parrilli, oscar parrilli</td>\n",
       "    </tr>\n",
       "  </tbody>\n",
       "</table>\n",
       "</div>"
      ],
      "text/plain": [
       "       FECHA                   Document Title  \\\n",
       "0  5/14/2013  B-1009-2013-05-14-131007-12.mp3   \n",
       "1  5/20/2013  B-1009-2013-05-20-153449-10.mp3   \n",
       "2  5/20/2013   B-1009-2013-05-20-132253-6.mp3   \n",
       "3  5/20/2013   B-1009-2013-05-20-133130-8.mp3   \n",
       "4  5/15/2013   B-1009-2013-05-15-105815-4.mp3   \n",
       "\n",
       "                                        Document Url  \\\n",
       "0  http://s3.amazonaws.com/archivo.lanacion.com.a...   \n",
       "1  http://s3.amazonaws.com/archivo.lanacion.com.a...   \n",
       "2  http://s3.amazonaws.com/archivo.lanacion.com.a...   \n",
       "3  http://s3.amazonaws.com/archivo.lanacion.com.a...   \n",
       "4  http://s3.amazonaws.com/archivo.lanacion.com.a...   \n",
       "\n",
       "       answer_El audio parece estar relacionado con:  \\\n",
       "0  Pacto con Irán, Causa AMIA, Irán, Israel, Vene...   \n",
       "1  Pacto con Irán, Causa AMIA, Irán, Israel, Vene...   \n",
       "2  Pacto con Irán, Causa AMIA, Irán, Israel, Vene...   \n",
       "3  Pacto con Irán, Causa AMIA, Irán, Israel, Vene...   \n",
       "4  Otros temas interesantes para investigar (se h...   \n",
       "\n",
       "                   answer_Más información (Opcional)  \\\n",
       "0  \"Le dije todas las propuestas a delia y el ya ...   \n",
       "1  audio del acuerdo parlamentario con Irán- Audi...   \n",
       "2  \"Los dólares también estaban en la embajada\". ...   \n",
       "3  relaciones bilaterales y comercio petróleo x g...   \n",
       "4  \"estuve hablando con funcionarios del gobierno...   \n",
       "\n",
       "  answer_Palabras clave/ otros nombres/ lugares (Opcional)  \\\n",
       "0                                                NaN         \n",
       "1  Luis D´Ellia- Alejandro \"Yussuf\" Khalil, escuh...         \n",
       "2                                Eduardo, \"el gordo\"         \n",
       "3                                   De Vido Min 5:15         \n",
       "4                      oscar parrilli, funcionarios,         \n",
       "\n",
       "                                  Nuevos Comentarios      Origen  \\\n",
       "0  que fernando le digo a persico. no es de gob a...  1132384699   \n",
       "1  Luis d'elia y yussuf escuchan audio de una ent...  1132384699   \n",
       "2  estan dispuestos a mandar los jefes de YPF a c...  1132384699   \n",
       "3  hay 4 o 5 candidatos a presidente de iran que ...  1132384699   \n",
       "4                             nos vemos en la marcha  1132384699   \n",
       "\n",
       "        Destino Datos de la celda Calle  \\\n",
       "0  9.890000e+11                 Arevalo   \n",
       "1  1.154097e+09                 Arevalo   \n",
       "2  9.890000e+11          Av. Diaz Velez   \n",
       "3  9.890000e+11               Ravignani   \n",
       "4  1.161270e+09               Ravignani   \n",
       "\n",
       "                                            PERSONAS                LUGARES  \\\n",
       "0  heshman, D'elia, Cancilleria, Cuervo Larroque,...                teheran   \n",
       "1  Luis d'elia, ali pagdaman, encargado de negoci...                   iran   \n",
       "2  abdul karim, sheik, daniel, el gordo, d'elia, ...               embajada   \n",
       "3             abdul karim, de vido, cancilleria, YPF  Caracas, Buenos Aires   \n",
       "4  salam, namir, carloncho, funcionarios de gobie...                    NaN   \n",
       "\n",
       "                                               TEMAS  \\\n",
       "0                       comercio, trigo, soja, arroz   \n",
       "1                  memorandum, acuerdo parlamentario   \n",
       "2                          memorandum, YPF, petroleo   \n",
       "3  memorandum, relacines comerciales, YPF, estado...   \n",
       "4                                      funcionarios    \n",
       "\n",
       "                                      columbia_words  \n",
       "0                                   cuervo, larroque  \n",
       "1                                               iran  \n",
       "2  abdul karim, sheik, daniel, el gordo, d'elia, ...  \n",
       "3                  granos, petroleo, de vido, devido  \n",
       "4                  parrili, parrilli, oscar parrilli  "
      ]
     },
     "execution_count": 5,
     "metadata": {},
     "output_type": "execute_result"
    }
   ],
   "source": [
    "manual = load_data('manual_selection')\n",
    "manual.head()"
   ]
  },
  {
   "cell_type": "code",
   "execution_count": 6,
   "metadata": {
    "collapsed": false
   },
   "outputs": [],
   "source": [
    "audios = audios[[\"Document Title\",\"Document Url\",\"answer_El audio parece estar relacionado con:\",\"length\"]]\n",
    "unl_audios = unl_audios[[\"Document Title\",\"Document Url\",\"length\"]]\n",
    "manual = manual[[\"Document Title\",\"Document Url\",\"columbia_words\"]]"
   ]
  },
  {
   "cell_type": "markdown",
   "metadata": {},
   "source": [
    "## Sample labeled features"
   ]
  },
  {
   "cell_type": "code",
   "execution_count": 7,
   "metadata": {
    "collapsed": false
   },
   "outputs": [
    {
     "data": {
      "text/html": [
       "<div>\n",
       "<table border=\"1\" class=\"dataframe\">\n",
       "  <thead>\n",
       "    <tr style=\"text-align: right;\">\n",
       "      <th></th>\n",
       "      <th>Document Title</th>\n",
       "      <th>Document Url_x</th>\n",
       "      <th>answer_El audio parece estar relacionado con:</th>\n",
       "      <th>length</th>\n",
       "      <th>Document Url_y</th>\n",
       "      <th>columbia_words</th>\n",
       "    </tr>\n",
       "  </thead>\n",
       "  <tbody>\n",
       "    <tr>\n",
       "      <th>0</th>\n",
       "      <td>01.21299.20121127.142339.mp3</td>\n",
       "      <td>http://s3.amazonaws.com/archivo.lanacion.com.a...</td>\n",
       "      <td>Otros temas no relevantes</td>\n",
       "      <td>52.740</td>\n",
       "      <td>NaN</td>\n",
       "      <td>NaN</td>\n",
       "    </tr>\n",
       "    <tr>\n",
       "      <th>1</th>\n",
       "      <td>B-1009-2013-07-27-002452-30.mp3</td>\n",
       "      <td>http://s3.amazonaws.com/archivo.lanacion.com.a...</td>\n",
       "      <td>Descartar: no atienden, contestador, no se ent...</td>\n",
       "      <td>27.000</td>\n",
       "      <td>NaN</td>\n",
       "      <td>NaN</td>\n",
       "    </tr>\n",
       "    <tr>\n",
       "      <th>2</th>\n",
       "      <td>B-1009-2013-08-01-204601-14.mp3</td>\n",
       "      <td>http://s3.amazonaws.com/archivo.lanacion.com.a...</td>\n",
       "      <td>Otros temas interesantes para investigar (se h...</td>\n",
       "      <td>56.088</td>\n",
       "      <td>NaN</td>\n",
       "      <td>NaN</td>\n",
       "    </tr>\n",
       "    <tr>\n",
       "      <th>3</th>\n",
       "      <td>B-1009-2013-09-06-150531-22.mp3</td>\n",
       "      <td>http://s3.amazonaws.com/archivo.lanacion.com.a...</td>\n",
       "      <td>Otros temas no relevantes</td>\n",
       "      <td>215.640</td>\n",
       "      <td>NaN</td>\n",
       "      <td>NaN</td>\n",
       "    </tr>\n",
       "    <tr>\n",
       "      <th>4</th>\n",
       "      <td>B-1009-2013-01-26-175819-4.mp3</td>\n",
       "      <td>http://s3.amazonaws.com/archivo.lanacion.com.a...</td>\n",
       "      <td>Otros temas no relevantes</td>\n",
       "      <td>117.216</td>\n",
       "      <td>NaN</td>\n",
       "      <td>NaN</td>\n",
       "    </tr>\n",
       "  </tbody>\n",
       "</table>\n",
       "</div>"
      ],
      "text/plain": [
       "                    Document Title  \\\n",
       "0     01.21299.20121127.142339.mp3   \n",
       "1  B-1009-2013-07-27-002452-30.mp3   \n",
       "2  B-1009-2013-08-01-204601-14.mp3   \n",
       "3  B-1009-2013-09-06-150531-22.mp3   \n",
       "4   B-1009-2013-01-26-175819-4.mp3   \n",
       "\n",
       "                                      Document Url_x  \\\n",
       "0  http://s3.amazonaws.com/archivo.lanacion.com.a...   \n",
       "1  http://s3.amazonaws.com/archivo.lanacion.com.a...   \n",
       "2  http://s3.amazonaws.com/archivo.lanacion.com.a...   \n",
       "3  http://s3.amazonaws.com/archivo.lanacion.com.a...   \n",
       "4  http://s3.amazonaws.com/archivo.lanacion.com.a...   \n",
       "\n",
       "       answer_El audio parece estar relacionado con:   length Document Url_y  \\\n",
       "0                          Otros temas no relevantes   52.740            NaN   \n",
       "1  Descartar: no atienden, contestador, no se ent...   27.000            NaN   \n",
       "2  Otros temas interesantes para investigar (se h...   56.088            NaN   \n",
       "3                          Otros temas no relevantes  215.640            NaN   \n",
       "4                          Otros temas no relevantes  117.216            NaN   \n",
       "\n",
       "  columbia_words  \n",
       "0            NaN  \n",
       "1            NaN  \n",
       "2            NaN  \n",
       "3            NaN  \n",
       "4            NaN  "
      ]
     },
     "execution_count": 7,
     "metadata": {},
     "output_type": "execute_result"
    }
   ],
   "source": [
    "audios_merged = pd.merge(audios, manual, on='Document Title', how='left')\n",
    "audios_merged.head()"
   ]
  },
  {
   "cell_type": "code",
   "execution_count": 8,
   "metadata": {
    "collapsed": false
   },
   "outputs": [],
   "source": [
    "m = audios_merged.drop('Document Url_y', 1)\n",
    "m = m.rename(columns={'Document Url_x': 'Document Url'})\n",
    "manual_selection = m[m['columbia_words'].notnull()]\n",
    "m_rest = m.loc[~m.index.isin(manual_selection.index)]"
   ]
  },
  {
   "cell_type": "code",
   "execution_count": null,
   "metadata": {
    "collapsed": false
   },
   "outputs": [],
   "source": [
    "l_discard = m_rest[m_rest[\"answer_El audio parece estar relacionado con:\"].str.startswith('Descartar:')]\n",
    "l_keep = m_rest.loc[~m_rest.index.isin(l_discard.index)]"
   ]
  },
  {
   "cell_type": "code",
   "execution_count": null,
   "metadata": {
    "collapsed": false
   },
   "outputs": [],
   "source": [
    "l_discard_sample = l_discard.sample(n=1500)\n",
    "l_keep_sample = l_keep.sample(n=(1500-len(manual_selection)))"
   ]
  },
  {
   "cell_type": "code",
   "execution_count": null,
   "metadata": {
    "collapsed": false
   },
   "outputs": [],
   "source": [
    "labeled_sample = pd.concat([manual_selection, l_discard_sample, l_keep_sample])\n",
    "labeled_sample.head()"
   ]
  },
  {
   "cell_type": "markdown",
   "metadata": {},
   "source": [
    "## Sample unlabeled features"
   ]
  },
  {
   "cell_type": "code",
   "execution_count": null,
   "metadata": {
    "collapsed": false
   },
   "outputs": [],
   "source": [
    "# Randomly sample 7 elements from your dataframe\n",
    "unlabeled_sample = unl_audios.sample(n=3000)\n",
    "unlabeled_sample.head(5)"
   ]
  },
  {
   "cell_type": "markdown",
   "metadata": {},
   "source": [
    "## Export to csv files"
   ]
  },
  {
   "cell_type": "code",
   "execution_count": null,
   "metadata": {
    "collapsed": true
   },
   "outputs": [],
   "source": [
    "import os\n",
    "export_path = '../data/output/sample/'\n",
    "if not os.path.exists(export_path):\n",
    "    os.makedirs(export_path)"
   ]
  },
  {
   "cell_type": "code",
   "execution_count": null,
   "metadata": {
    "collapsed": true
   },
   "outputs": [],
   "source": [
    "labeled_sample.to_csv('{}/labeled_audios.csv'.format(export_path), index=False)"
   ]
  },
  {
   "cell_type": "code",
   "execution_count": null,
   "metadata": {
    "collapsed": true
   },
   "outputs": [],
   "source": [
    "unlabeled_sample.to_csv('{}/unlabeled_audios.csv'.format(export_path), index=False)"
   ]
  },
  {
   "cell_type": "code",
   "execution_count": null,
   "metadata": {
    "collapsed": true
   },
   "outputs": [],
   "source": []
  },
  {
   "cell_type": "code",
   "execution_count": null,
   "metadata": {
    "collapsed": true
   },
   "outputs": [],
   "source": []
  },
  {
   "cell_type": "code",
   "execution_count": null,
   "metadata": {
    "collapsed": true
   },
   "outputs": [],
   "source": []
  },
  {
   "cell_type": "code",
   "execution_count": null,
   "metadata": {
    "collapsed": true
   },
   "outputs": [],
   "source": []
  },
  {
   "cell_type": "code",
   "execution_count": null,
   "metadata": {
    "collapsed": true
   },
   "outputs": [],
   "source": []
  },
  {
   "cell_type": "code",
   "execution_count": null,
   "metadata": {
    "collapsed": true
   },
   "outputs": [],
   "source": []
  }
 ],
 "metadata": {
  "kernelspec": {
   "display_name": "Python 3",
   "language": "python",
   "name": "python3"
  },
  "language_info": {
   "codemirror_mode": {
    "name": "ipython",
    "version": 3
   },
   "file_extension": ".py",
   "mimetype": "text/x-python",
   "name": "python",
   "nbconvert_exporter": "python",
   "pygments_lexer": "ipython3",
   "version": "3.4.3"
  }
 },
 "nbformat": 4,
 "nbformat_minor": 0
}
