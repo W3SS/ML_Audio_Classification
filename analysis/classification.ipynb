{
 "cells": [
  {
   "cell_type": "code",
   "execution_count": 1,
   "metadata": {
    "collapsed": true
   },
   "outputs": [],
   "source": [
    "%matplotlib inline\n",
    "import pandas as pd\n",
    "import numpy as np"
   ]
  },
  {
   "cell_type": "code",
   "execution_count": 2,
   "metadata": {
    "collapsed": true
   },
   "outputs": [],
   "source": [
    "def load_features(directory):\n",
    "    au_features = pd.read_csv('{}/audio_features.csv'.format(directory))\n",
    "    im_features = pd.read_csv('{}/white_proportion_feature.csv'.format(directory))\n",
    "    \n",
    "    # Drop redundant columns\n",
    "    au_features = au_features.drop(['index'], axis=1)\n",
    "    im_features = im_features.drop(['label'], axis=1)\n",
    "\n",
    "    # Merge audio and image features\n",
    "    features = pd.concat([au_features, im_features], axis=1)\n",
    "\n",
    "    # Drop unnecessary columns\n",
    "    features = features.drop(['index','audio_file','image_file','seconds_length'], axis=1)\n",
    "\n",
    "    # Only look at clips less than 300s long\n",
    "    features = features[features.length < 300]\n",
    "    \n",
    "    return features"
   ]
  },
  {
   "cell_type": "code",
   "execution_count": 3,
   "metadata": {
    "collapsed": false
   },
   "outputs": [
    {
     "data": {
      "text/html": [
       "<div>\n",
       "<table border=\"1\" class=\"dataframe\">\n",
       "  <thead>\n",
       "    <tr style=\"text-align: right;\">\n",
       "      <th></th>\n",
       "      <th>length</th>\n",
       "      <th>label</th>\n",
       "      <th>last_ring_to_end_length</th>\n",
       "      <th>max_amplitude</th>\n",
       "      <th>mean_nonsilence_variances</th>\n",
       "      <th>mean_silence_length</th>\n",
       "      <th>percent_silence</th>\n",
       "      <th>ring_count</th>\n",
       "      <th>variance_of_nonsilence_variances</th>\n",
       "      <th>white_proportion</th>\n",
       "    </tr>\n",
       "  </thead>\n",
       "  <tbody>\n",
       "    <tr>\n",
       "      <th>0</th>\n",
       "      <td>52.740</td>\n",
       "      <td>0</td>\n",
       "      <td>421632</td>\n",
       "      <td>13201.316993</td>\n",
       "      <td>3288065.630625</td>\n",
       "      <td>5933.142857</td>\n",
       "      <td>0.492515</td>\n",
       "      <td>0</td>\n",
       "      <td>1.022110e+13</td>\n",
       "      <td>0.797400</td>\n",
       "    </tr>\n",
       "    <tr>\n",
       "      <th>1</th>\n",
       "      <td>27.000</td>\n",
       "      <td>1</td>\n",
       "      <td>215424</td>\n",
       "      <td>6472.002296</td>\n",
       "      <td>2645716.235082</td>\n",
       "      <td>105198.500000</td>\n",
       "      <td>0.976665</td>\n",
       "      <td>0</td>\n",
       "      <td>NaN</td>\n",
       "      <td>0.976968</td>\n",
       "    </tr>\n",
       "    <tr>\n",
       "      <th>2</th>\n",
       "      <td>56.088</td>\n",
       "      <td>0</td>\n",
       "      <td>31969</td>\n",
       "      <td>8450.864654</td>\n",
       "      <td>847573.296409</td>\n",
       "      <td>6104.150000</td>\n",
       "      <td>0.272429</td>\n",
       "      <td>10</td>\n",
       "      <td>7.112465e+11</td>\n",
       "      <td>0.833652</td>\n",
       "    </tr>\n",
       "    <tr>\n",
       "      <th>3</th>\n",
       "      <td>215.640</td>\n",
       "      <td>0</td>\n",
       "      <td>13923</td>\n",
       "      <td>8893.500712</td>\n",
       "      <td>757854.577506</td>\n",
       "      <td>2901.904348</td>\n",
       "      <td>0.193511</td>\n",
       "      <td>56</td>\n",
       "      <td>6.715146e+11</td>\n",
       "      <td>0.762843</td>\n",
       "    </tr>\n",
       "    <tr>\n",
       "      <th>4</th>\n",
       "      <td>117.216</td>\n",
       "      <td>0</td>\n",
       "      <td>16743</td>\n",
       "      <td>16570.947952</td>\n",
       "      <td>1067439.468707</td>\n",
       "      <td>5541.494118</td>\n",
       "      <td>0.502615</td>\n",
       "      <td>26</td>\n",
       "      <td>8.731344e+12</td>\n",
       "      <td>0.826120</td>\n",
       "    </tr>\n",
       "  </tbody>\n",
       "</table>\n",
       "</div>"
      ],
      "text/plain": [
       "    length  label  last_ring_to_end_length  max_amplitude  \\\n",
       "0   52.740      0                   421632   13201.316993   \n",
       "1   27.000      1                   215424    6472.002296   \n",
       "2   56.088      0                    31969    8450.864654   \n",
       "3  215.640      0                    13923    8893.500712   \n",
       "4  117.216      0                    16743   16570.947952   \n",
       "\n",
       "   mean_nonsilence_variances  mean_silence_length  percent_silence  \\\n",
       "0             3288065.630625          5933.142857         0.492515   \n",
       "1             2645716.235082        105198.500000         0.976665   \n",
       "2              847573.296409          6104.150000         0.272429   \n",
       "3              757854.577506          2901.904348         0.193511   \n",
       "4             1067439.468707          5541.494118         0.502615   \n",
       "\n",
       "   ring_count  variance_of_nonsilence_variances  white_proportion  \n",
       "0           0                      1.022110e+13          0.797400  \n",
       "1           0                               NaN          0.976968  \n",
       "2          10                      7.112465e+11          0.833652  \n",
       "3          56                      6.715146e+11          0.762843  \n",
       "4          26                      8.731344e+12          0.826120  "
      ]
     },
     "execution_count": 3,
     "metadata": {},
     "output_type": "execute_result"
    }
   ],
   "source": [
    "features = load_features('labeled')\n",
    "features.head()"
   ]
  },
  {
   "cell_type": "code",
   "execution_count": 4,
   "metadata": {
    "collapsed": false,
    "scrolled": true
   },
   "outputs": [
    {
     "data": {
      "text/html": [
       "<div>\n",
       "<table border=\"1\" class=\"dataframe\">\n",
       "  <thead>\n",
       "    <tr style=\"text-align: right;\">\n",
       "      <th></th>\n",
       "      <th>length</th>\n",
       "      <th>label</th>\n",
       "      <th>last_ring_to_end_length</th>\n",
       "      <th>max_amplitude</th>\n",
       "      <th>mean_nonsilence_variances</th>\n",
       "      <th>mean_silence_length</th>\n",
       "      <th>percent_silence</th>\n",
       "      <th>ring_count</th>\n",
       "      <th>variance_of_nonsilence_variances</th>\n",
       "      <th>white_proportion</th>\n",
       "    </tr>\n",
       "  </thead>\n",
       "  <tbody>\n",
       "    <tr>\n",
       "      <th>1</th>\n",
       "      <td>27.000</td>\n",
       "      <td>1</td>\n",
       "      <td>215424</td>\n",
       "      <td>6472.002296</td>\n",
       "      <td>2645716.235082</td>\n",
       "      <td>105198.5</td>\n",
       "      <td>0.976665</td>\n",
       "      <td>0</td>\n",
       "      <td>NaN</td>\n",
       "      <td>0.976968</td>\n",
       "    </tr>\n",
       "    <tr>\n",
       "      <th>5</th>\n",
       "      <td>27.288</td>\n",
       "      <td>1</td>\n",
       "      <td>217728</td>\n",
       "      <td>6367.894592</td>\n",
       "      <td>2681107.416424</td>\n",
       "      <td>106353.0</td>\n",
       "      <td>0.976935</td>\n",
       "      <td>0</td>\n",
       "      <td>NaN</td>\n",
       "      <td>0.976786</td>\n",
       "    </tr>\n",
       "    <tr>\n",
       "      <th>10</th>\n",
       "      <td>24.408</td>\n",
       "      <td>1</td>\n",
       "      <td>194688</td>\n",
       "      <td>6245.208322</td>\n",
       "      <td>2632847.949536</td>\n",
       "      <td>94824.0</td>\n",
       "      <td>0.974112</td>\n",
       "      <td>0</td>\n",
       "      <td>NaN</td>\n",
       "      <td>0.975155</td>\n",
       "    </tr>\n",
       "    <tr>\n",
       "      <th>36</th>\n",
       "      <td>26.352</td>\n",
       "      <td>1</td>\n",
       "      <td>210240</td>\n",
       "      <td>6562.299848</td>\n",
       "      <td>2836528.178015</td>\n",
       "      <td>102602.5</td>\n",
       "      <td>0.976051</td>\n",
       "      <td>0</td>\n",
       "      <td>NaN</td>\n",
       "      <td>0.976748</td>\n",
       "    </tr>\n",
       "    <tr>\n",
       "      <th>41</th>\n",
       "      <td>6.120</td>\n",
       "      <td>1</td>\n",
       "      <td>48384</td>\n",
       "      <td>6407.513289</td>\n",
       "      <td>2700533.740881</td>\n",
       "      <td>21677.5</td>\n",
       "      <td>0.896061</td>\n",
       "      <td>0</td>\n",
       "      <td>NaN</td>\n",
       "      <td>0.957955</td>\n",
       "    </tr>\n",
       "  </tbody>\n",
       "</table>\n",
       "</div>"
      ],
      "text/plain": [
       "    length  label  last_ring_to_end_length  max_amplitude  \\\n",
       "1   27.000      1                   215424    6472.002296   \n",
       "5   27.288      1                   217728    6367.894592   \n",
       "10  24.408      1                   194688    6245.208322   \n",
       "36  26.352      1                   210240    6562.299848   \n",
       "41   6.120      1                    48384    6407.513289   \n",
       "\n",
       "    mean_nonsilence_variances  mean_silence_length  percent_silence  \\\n",
       "1              2645716.235082             105198.5         0.976665   \n",
       "5              2681107.416424             106353.0         0.976935   \n",
       "10             2632847.949536              94824.0         0.974112   \n",
       "36             2836528.178015             102602.5         0.976051   \n",
       "41             2700533.740881              21677.5         0.896061   \n",
       "\n",
       "    ring_count  variance_of_nonsilence_variances  white_proportion  \n",
       "1            0                               NaN          0.976968  \n",
       "5            0                               NaN          0.976786  \n",
       "10           0                               NaN          0.975155  \n",
       "36           0                               NaN          0.976748  \n",
       "41           0                               NaN          0.957955  "
      ]
     },
     "execution_count": 4,
     "metadata": {},
     "output_type": "execute_result"
    }
   ],
   "source": [
    "# Take a look at where nan values are\n",
    "features[features.isnull().any(axis=1)].head()"
   ]
  },
  {
   "cell_type": "code",
   "execution_count": 5,
   "metadata": {
    "collapsed": false
   },
   "outputs": [
    {
     "data": {
      "text/plain": [
       "8"
      ]
     },
     "execution_count": 5,
     "metadata": {},
     "output_type": "execute_result"
    }
   ],
   "source": [
    "# nan nonsilence variances due to no nonsilences?\n",
    "features['variance_of_nonsilence_variances'].fillna(0, inplace=True)\n",
    "\n",
    "# how many remaining rows still have nan values?\n",
    "len(features[features.isnull().any(axis=1)])"
   ]
  },
  {
   "cell_type": "code",
   "execution_count": 6,
   "metadata": {
    "collapsed": false
   },
   "outputs": [],
   "source": [
    "# just drop the remaning rows with nan values\n",
    "features = features.dropna()"
   ]
  },
  {
   "cell_type": "code",
   "execution_count": 7,
   "metadata": {
    "collapsed": true
   },
   "outputs": [],
   "source": [
    "from sklearn import cross_validation\n",
    "columns = ['label', 'length', 'last_ring_to_end_length', 'max_amplitude', 'mean_nonsilence_variances', 'mean_silence_length', 'percent_silence', 'ring_count', 'variance_of_nonsilence_variances', 'white_proportion']\n",
    "train, test = cross_validation.train_test_split(features[columns], train_size=0.7, random_state=1000)\n",
    "y_train = train['label']\n",
    "X_train = train.drop('label', axis=1)\n",
    "y_test = test['label']\n",
    "X_test = test.drop('label', axis=1)"
   ]
  },
  {
   "cell_type": "code",
   "execution_count": 8,
   "metadata": {
    "collapsed": false
   },
   "outputs": [],
   "source": [
    "from sklearn import preprocessing\n",
    "scaler = preprocessing.StandardScaler().fit(X_train)\n",
    "X_train_scaled = scaler.transform(X_train)"
   ]
  },
  {
   "cell_type": "code",
   "execution_count": 9,
   "metadata": {
    "collapsed": false,
    "scrolled": true
   },
   "outputs": [
    {
     "data": {
      "text/plain": [
       "[('length', 0.43100392545589966),\n",
       " ('last_ring_to_end_length', 0.18418254637493131),\n",
       " ('max_amplitude', -0.60058439473109149),\n",
       " ('mean_nonsilence_variances', 1.3806048722535504),\n",
       " ('mean_silence_length', 0.50164160801113866),\n",
       " ('percent_silence', -2.7810146494543848),\n",
       " ('ring_count', -1.8577804395983069),\n",
       " ('variance_of_nonsilence_variances', -0.26383819899969335),\n",
       " ('white_proportion', 5.1049710530155528)]"
      ]
     },
     "execution_count": 9,
     "metadata": {},
     "output_type": "execute_result"
    }
   ],
   "source": [
    "from sklearn.linear_model import LogisticRegression\n",
    "lr = LogisticRegression()\n",
    "lr.fit(X_train_scaled, y_train)\n",
    "list(zip(columns[1:], lr.coef_[0]))"
   ]
  },
  {
   "cell_type": "code",
   "execution_count": 10,
   "metadata": {
    "collapsed": false
   },
   "outputs": [
    {
     "data": {
      "text/plain": [
       "[('length', 0.14868640679697451),\n",
       " ('last_ring_to_end_length', 0.03691081273887982),\n",
       " ('max_amplitude', 0.0614381497831753),\n",
       " ('mean_nonsilence_variances', 0.031387002056784602),\n",
       " ('mean_silence_length', 0.13598844686980038),\n",
       " ('percent_silence', 0.094613390765981506),\n",
       " ('ring_count', 0.28928303201990124),\n",
       " ('variance_of_nonsilence_variances', 0.033907871483863733),\n",
       " ('white_proportion', 0.16778488748463896)]"
      ]
     },
     "execution_count": 10,
     "metadata": {},
     "output_type": "execute_result"
    }
   ],
   "source": [
    "from sklearn.ensemble import RandomForestClassifier\n",
    "rf = RandomForestClassifier(n_estimators=15, n_jobs=-1)\n",
    "rf.fit(X_train_scaled, y_train)\n",
    "list(zip(columns[1:], rf.feature_importances_))"
   ]
  },
  {
   "cell_type": "code",
   "execution_count": 11,
   "metadata": {
    "collapsed": false,
    "scrolled": true
   },
   "outputs": [
    {
     "data": {
      "text/plain": [
       "SVC(C=1.0, cache_size=200, class_weight=None, coef0=0.0, degree=3, gamma=0.0,\n",
       "  kernel='rbf', max_iter=-1, probability=False, random_state=None,\n",
       "  shrinking=True, tol=0.001, verbose=False)"
      ]
     },
     "execution_count": 11,
     "metadata": {},
     "output_type": "execute_result"
    }
   ],
   "source": [
    "from sklearn.svm import SVC\n",
    "svm = SVC(kernel='rbf') # available kernels: linear, poly, rbf, sigmoid\n",
    "svm.fit(X_train_scaled, y_train)"
   ]
  },
  {
   "cell_type": "code",
   "execution_count": 12,
   "metadata": {
    "collapsed": false
   },
   "outputs": [
    {
     "name": "stdout",
     "output_type": "stream",
     "text": [
      "0.917524690378\n",
      "0.927071606705\n",
      "0.929422733394\n"
     ]
    }
   ],
   "source": [
    "from sklearn import metrics\n",
    "for m in [lr, rf, svm]:\n",
    "    X_test_scaled = scaler.transform(X_test)\n",
    "    y_pred = m.predict(X_test_scaled)\n",
    "    print(metrics.roc_auc_score(y_test, y_pred))"
   ]
  },
  {
   "cell_type": "code",
   "execution_count": 15,
   "metadata": {
    "collapsed": false,
    "scrolled": false
   },
   "outputs": [
    {
     "name": "stdout",
     "output_type": "stream",
     "text": [
      "LogisticRegression\n",
      "\troc_auc: 0.96 (+/- 0.02)\n",
      "\taverage_precision: 0.95 (+/- 0.02)\n",
      "\trecall: 0.92 (+/- 0.03)\n",
      "\tf1: 0.90 (+/- 0.02)\n",
      "RandomForestClassifier\n",
      "\troc_auc: 0.97 (+/- 0.02)\n",
      "\taverage_precision: 0.96 (+/- 0.02)\n",
      "\trecall: 0.91 (+/- 0.03)\n",
      "\tf1: 0.91 (+/- 0.02)\n",
      "SVC\n",
      "\troc_auc: 0.96 (+/- 0.02)\n",
      "\taverage_precision: 0.95 (+/- 0.03)\n",
      "\trecall: 0.92 (+/- 0.02)\n",
      "\tf1: 0.91 (+/- 0.02)\n"
     ]
    }
   ],
   "source": [
    "from sklearn.pipeline import make_pipeline\n",
    "\n",
    "columns = ['length', 'last_ring_to_end_length', 'max_amplitude', 'mean_nonsilence_variances', 'mean_silence_length', 'percent_silence', 'ring_count', 'variance_of_nonsilence_variances', 'white_proportion']\n",
    "columns = ['length', 'last_ring_to_end_length', 'mean_silence_length', 'percent_silence', 'white_proportion']\n",
    "\n",
    "X = features[columns]\n",
    "y = features['label']\n",
    "\n",
    "for m in [\n",
    "    LogisticRegression(),\n",
    "    RandomForestClassifier(n_estimators=20, n_jobs=-1),\n",
    "    SVC(kernel='rbf'),\n",
    "    #SVC(kernel='poly')\n",
    "]:\n",
    "    clf = make_pipeline(preprocessing.StandardScaler(), m)\n",
    "    print(m.__class__.__name__)\n",
    "    \n",
    "    # options for scoring: http://scikit-learn.org/stable/modules/model_evaluation.html#scoring-parameter\n",
    "    for scorer in ['roc_auc', 'average_precision', 'recall', 'f1']:\n",
    "        scores = cross_validation.cross_val_score(clf, X, y, cv=10, scoring=scorer, n_jobs=-1)\n",
    "        print(\"\\t{}: {:.2f} (+/- {:.2f})\".format(scorer, scores.mean(), scores.std() * 2))"
   ]
  },
  {
   "cell_type": "markdown",
   "metadata": {},
   "source": [
    "# Unlabeled data"
   ]
  },
  {
   "cell_type": "code",
   "execution_count": 17,
   "metadata": {
    "collapsed": false,
    "scrolled": true
   },
   "outputs": [
    {
     "data": {
      "text/html": [
       "<div>\n",
       "<table border=\"1\" class=\"dataframe\">\n",
       "  <thead>\n",
       "    <tr style=\"text-align: right;\">\n",
       "      <th></th>\n",
       "      <th>length</th>\n",
       "      <th>last_ring_to_end_length</th>\n",
       "      <th>max_amplitude</th>\n",
       "      <th>mean_nonsilence_variances</th>\n",
       "      <th>mean_silence_length</th>\n",
       "      <th>percent_silence</th>\n",
       "      <th>ring_count</th>\n",
       "      <th>variance_of_nonsilence_variances</th>\n",
       "      <th>white_proportion</th>\n",
       "    </tr>\n",
       "  </thead>\n",
       "  <tbody>\n",
       "    <tr>\n",
       "      <th>0</th>\n",
       "      <td>55.800</td>\n",
       "      <td>37272</td>\n",
       "      <td>7996.032645</td>\n",
       "      <td>669448.850713</td>\n",
       "      <td>6285.941176</td>\n",
       "      <td>0.479386</td>\n",
       "      <td>16</td>\n",
       "      <td>6.392135e+11</td>\n",
       "      <td>0.861486</td>\n",
       "    </tr>\n",
       "    <tr>\n",
       "      <th>1</th>\n",
       "      <td>65.880</td>\n",
       "      <td>89501</td>\n",
       "      <td>12669.113234</td>\n",
       "      <td>863777.126124</td>\n",
       "      <td>3489.703125</td>\n",
       "      <td>0.424228</td>\n",
       "      <td>12</td>\n",
       "      <td>4.613365e+12</td>\n",
       "      <td>0.825686</td>\n",
       "    </tr>\n",
       "    <tr>\n",
       "      <th>2</th>\n",
       "      <td>9.576</td>\n",
       "      <td>15220</td>\n",
       "      <td>7231.952319</td>\n",
       "      <td>1536114.044238</td>\n",
       "      <td>2255.857143</td>\n",
       "      <td>0.207689</td>\n",
       "      <td>2</td>\n",
       "      <td>1.858999e+12</td>\n",
       "      <td>0.873591</td>\n",
       "    </tr>\n",
       "    <tr>\n",
       "      <th>3</th>\n",
       "      <td>5.256</td>\n",
       "      <td>41472</td>\n",
       "      <td>8838.864994</td>\n",
       "      <td>7351102.882874</td>\n",
       "      <td>7540.333333</td>\n",
       "      <td>0.545452</td>\n",
       "      <td>0</td>\n",
       "      <td>5.230724e+13</td>\n",
       "      <td>0.897695</td>\n",
       "    </tr>\n",
       "    <tr>\n",
       "      <th>4</th>\n",
       "      <td>5.760</td>\n",
       "      <td>45504</td>\n",
       "      <td>9150.690024</td>\n",
       "      <td>8968169.257656</td>\n",
       "      <td>8529.666667</td>\n",
       "      <td>0.562346</td>\n",
       "      <td>0</td>\n",
       "      <td>6.839469e+13</td>\n",
       "      <td>0.900670</td>\n",
       "    </tr>\n",
       "  </tbody>\n",
       "</table>\n",
       "</div>"
      ],
      "text/plain": [
       "   length  last_ring_to_end_length  max_amplitude  mean_nonsilence_variances  \\\n",
       "0  55.800                    37272    7996.032645              669448.850713   \n",
       "1  65.880                    89501   12669.113234              863777.126124   \n",
       "2   9.576                    15220    7231.952319             1536114.044238   \n",
       "3   5.256                    41472    8838.864994             7351102.882874   \n",
       "4   5.760                    45504    9150.690024             8968169.257656   \n",
       "\n",
       "   mean_silence_length  percent_silence  ring_count  \\\n",
       "0          6285.941176         0.479386          16   \n",
       "1          3489.703125         0.424228          12   \n",
       "2          2255.857143         0.207689           2   \n",
       "3          7540.333333         0.545452           0   \n",
       "4          8529.666667         0.562346           0   \n",
       "\n",
       "   variance_of_nonsilence_variances  white_proportion  \n",
       "0                      6.392135e+11          0.861486  \n",
       "1                      4.613365e+12          0.825686  \n",
       "2                      1.858999e+12          0.873591  \n",
       "3                      5.230724e+13          0.897695  \n",
       "4                      6.839469e+13          0.900670  "
      ]
     },
     "execution_count": 17,
     "metadata": {},
     "output_type": "execute_result"
    }
   ],
   "source": [
    "unl_features = load_features('unlabeled')\n",
    "unl_features.head()"
   ]
  },
  {
   "cell_type": "code",
   "execution_count": 18,
   "metadata": {
    "collapsed": false
   },
   "outputs": [
    {
     "data": {
      "text/html": [
       "<div>\n",
       "<table border=\"1\" class=\"dataframe\">\n",
       "  <thead>\n",
       "    <tr style=\"text-align: right;\">\n",
       "      <th></th>\n",
       "      <th>length</th>\n",
       "      <th>last_ring_to_end_length</th>\n",
       "      <th>max_amplitude</th>\n",
       "      <th>mean_nonsilence_variances</th>\n",
       "      <th>mean_silence_length</th>\n",
       "      <th>percent_silence</th>\n",
       "      <th>ring_count</th>\n",
       "      <th>variance_of_nonsilence_variances</th>\n",
       "      <th>white_proportion</th>\n",
       "    </tr>\n",
       "  </thead>\n",
       "  <tbody>\n",
       "    <tr>\n",
       "      <th>6</th>\n",
       "      <td>14.184</td>\n",
       "      <td>112896</td>\n",
       "      <td>6016.569319</td>\n",
       "      <td>2230032.565705</td>\n",
       "      <td>53935.5</td>\n",
       "      <td>0.955490</td>\n",
       "      <td>0</td>\n",
       "      <td>NaN</td>\n",
       "      <td>0.969982</td>\n",
       "    </tr>\n",
       "    <tr>\n",
       "      <th>10</th>\n",
       "      <td>5.760</td>\n",
       "      <td>45504</td>\n",
       "      <td>6437.568449</td>\n",
       "      <td>2554060.482237</td>\n",
       "      <td>20237.0</td>\n",
       "      <td>0.889460</td>\n",
       "      <td>0</td>\n",
       "      <td>NaN</td>\n",
       "      <td>0.953184</td>\n",
       "    </tr>\n",
       "    <tr>\n",
       "      <th>29</th>\n",
       "      <td>10.368</td>\n",
       "      <td>82368</td>\n",
       "      <td>6380.187662</td>\n",
       "      <td>2529937.131279</td>\n",
       "      <td>38666.5</td>\n",
       "      <td>0.938872</td>\n",
       "      <td>0</td>\n",
       "      <td>NaN</td>\n",
       "      <td>0.964543</td>\n",
       "    </tr>\n",
       "    <tr>\n",
       "      <th>32</th>\n",
       "      <td>7.776</td>\n",
       "      <td>61632</td>\n",
       "      <td>6423.542019</td>\n",
       "      <td>2642044.227679</td>\n",
       "      <td>28286.5</td>\n",
       "      <td>0.917916</td>\n",
       "      <td>0</td>\n",
       "      <td>NaN</td>\n",
       "      <td>0.958732</td>\n",
       "    </tr>\n",
       "    <tr>\n",
       "      <th>57</th>\n",
       "      <td>19.944</td>\n",
       "      <td>158976</td>\n",
       "      <td>6309.792196</td>\n",
       "      <td>2493014.250837</td>\n",
       "      <td>76974.5</td>\n",
       "      <td>0.968379</td>\n",
       "      <td>0</td>\n",
       "      <td>NaN</td>\n",
       "      <td>0.972016</td>\n",
       "    </tr>\n",
       "  </tbody>\n",
       "</table>\n",
       "</div>"
      ],
      "text/plain": [
       "    length  last_ring_to_end_length  max_amplitude  mean_nonsilence_variances  \\\n",
       "6   14.184                   112896    6016.569319             2230032.565705   \n",
       "10   5.760                    45504    6437.568449             2554060.482237   \n",
       "29  10.368                    82368    6380.187662             2529937.131279   \n",
       "32   7.776                    61632    6423.542019             2642044.227679   \n",
       "57  19.944                   158976    6309.792196             2493014.250837   \n",
       "\n",
       "    mean_silence_length  percent_silence  ring_count  \\\n",
       "6               53935.5         0.955490           0   \n",
       "10              20237.0         0.889460           0   \n",
       "29              38666.5         0.938872           0   \n",
       "32              28286.5         0.917916           0   \n",
       "57              76974.5         0.968379           0   \n",
       "\n",
       "    variance_of_nonsilence_variances  white_proportion  \n",
       "6                                NaN          0.969982  \n",
       "10                               NaN          0.953184  \n",
       "29                               NaN          0.964543  \n",
       "32                               NaN          0.958732  \n",
       "57                               NaN          0.972016  "
      ]
     },
     "execution_count": 18,
     "metadata": {},
     "output_type": "execute_result"
    }
   ],
   "source": [
    "# Take a look at where nan values are\n",
    "unl_features[unl_features.isnull().any(axis=1)].head()"
   ]
  },
  {
   "cell_type": "code",
   "execution_count": 19,
   "metadata": {
    "collapsed": true
   },
   "outputs": [],
   "source": [
    "unl_features['variance_of_nonsilence_variances'].fillna(0, inplace=True)\n",
    "unl_features['mean_nonsilence_variances'].fillna(0, inplace=True)"
   ]
  },
  {
   "cell_type": "code",
   "execution_count": 20,
   "metadata": {
    "collapsed": true
   },
   "outputs": [],
   "source": [
    "# just drop the remaning rows with nan values\n",
    "unl_features = unl_features.dropna()"
   ]
  },
  {
   "cell_type": "code",
   "execution_count": 21,
   "metadata": {
    "collapsed": false
   },
   "outputs": [
    {
     "name": "stdout",
     "output_type": "stream",
     "text": [
      "Training LogisticRegression\n",
      "Training RandomForestClassifier\n",
      "Training SVC\n"
     ]
    },
    {
     "data": {
      "text/plain": [
       "3"
      ]
     },
     "execution_count": 21,
     "metadata": {},
     "output_type": "execute_result"
    }
   ],
   "source": [
    "columns = ['length', 'last_ring_to_end_length', 'mean_silence_length', 'percent_silence', 'white_proportion']\n",
    "models = [\n",
    "    LogisticRegression(),\n",
    "    RandomForestClassifier(n_estimators=20, n_jobs=-1),\n",
    "    SVC(kernel='rbf'),\n",
    "]\n",
    "y_train_all = features['label']\n",
    "X_train_all = features.drop('label', axis=1)[columns]\n",
    "labels_pred = []\n",
    "\n",
    "scaler = preprocessing.StandardScaler()\n",
    "X_train_all_scaled = scaler.fit_transform(X_train_all)\n",
    "unl_features_scaled = scaler.transform(unl_features[columns])\n",
    "for m in models:\n",
    "    print('Training', m.__class__.__name__)\n",
    "    m.fit(X_train_all_scaled, y_train_all)\n",
    "    labels_pred.append(m.predict(unl_features_scaled))\n",
    "len(labels_pred)"
   ]
  },
  {
   "cell_type": "code",
   "execution_count": 22,
   "metadata": {
    "collapsed": false
   },
   "outputs": [
    {
     "name": "stdout",
     "output_type": "stream",
     "text": [
      "(array([0, 1]), array([10709,  8260]))\n",
      "(array([0, 1]), array([11094,  7875]))\n",
      "(array([0, 1]), array([10936,  8033]))\n"
     ]
    }
   ],
   "source": [
    "for labels in labels_pred:\n",
    "    print(np.unique(labels, return_counts=True))"
   ]
  },
  {
   "cell_type": "code",
   "execution_count": 23,
   "metadata": {
    "collapsed": false
   },
   "outputs": [],
   "source": [
    "# Combine labels from each predictor into a matrix (one row per predictor)\n",
    "agg_labels = np.vstack(labels_pred)\n",
    "# Sum each column of labels\n",
    "al = np.sum(agg_labels, axis=0)\n",
    "\n",
    "# If at least two predictors predict \"1\", then \"1\", else \"0\"\n",
    "al[np.where(al <= 1)] = 0\n",
    "al[np.where(al > 1)] = 1\n",
    "final_labels = al"
   ]
  },
  {
   "cell_type": "code",
   "execution_count": 24,
   "metadata": {
    "collapsed": false,
    "scrolled": true
   },
   "outputs": [
    {
     "data": {
      "text/plain": [
       "(array([0, 1]), array([10860,  8109]))"
      ]
     },
     "execution_count": 24,
     "metadata": {},
     "output_type": "execute_result"
    }
   ],
   "source": [
    "np.unique(final_labels, return_counts=True)"
   ]
  },
  {
   "cell_type": "code",
   "execution_count": 25,
   "metadata": {
    "collapsed": false
   },
   "outputs": [
    {
     "data": {
      "text/html": [
       "<div>\n",
       "<table border=\"1\" class=\"dataframe\">\n",
       "  <thead>\n",
       "    <tr style=\"text-align: right;\">\n",
       "      <th></th>\n",
       "      <th>audio_file</th>\n",
       "      <th>image_file</th>\n",
       "      <th>label</th>\n",
       "    </tr>\n",
       "  </thead>\n",
       "  <tbody>\n",
       "    <tr>\n",
       "      <th>0</th>\n",
       "      <td>../output/audio/unl_B-1009-2014-11-26-215804-3...</td>\n",
       "      <td>../output/images/unl_B-1009-2014-11-26-215804-...</td>\n",
       "      <td>0</td>\n",
       "    </tr>\n",
       "    <tr>\n",
       "      <th>1</th>\n",
       "      <td>../output/audio/unl_B-1009-2014-11-26-212753-3...</td>\n",
       "      <td>../output/images/unl_B-1009-2014-11-26-212753-...</td>\n",
       "      <td>0</td>\n",
       "    </tr>\n",
       "    <tr>\n",
       "      <th>2</th>\n",
       "      <td>../output/audio/unl_B-1009-2014-11-26-210738-2...</td>\n",
       "      <td>../output/images/unl_B-1009-2014-11-26-210738-...</td>\n",
       "      <td>1</td>\n",
       "    </tr>\n",
       "    <tr>\n",
       "      <th>3</th>\n",
       "      <td>../output/audio/unl_B-1009-2014-11-26-210722-2...</td>\n",
       "      <td>../output/images/unl_B-1009-2014-11-26-210722-...</td>\n",
       "      <td>1</td>\n",
       "    </tr>\n",
       "    <tr>\n",
       "      <th>4</th>\n",
       "      <td>../output/audio/unl_B-1009-2014-11-26-210712-2...</td>\n",
       "      <td>../output/images/unl_B-1009-2014-11-26-210712-...</td>\n",
       "      <td>1</td>\n",
       "    </tr>\n",
       "  </tbody>\n",
       "</table>\n",
       "</div>"
      ],
      "text/plain": [
       "                                          audio_file  \\\n",
       "0  ../output/audio/unl_B-1009-2014-11-26-215804-3...   \n",
       "1  ../output/audio/unl_B-1009-2014-11-26-212753-3...   \n",
       "2  ../output/audio/unl_B-1009-2014-11-26-210738-2...   \n",
       "3  ../output/audio/unl_B-1009-2014-11-26-210722-2...   \n",
       "4  ../output/audio/unl_B-1009-2014-11-26-210712-2...   \n",
       "\n",
       "                                          image_file  label  \n",
       "0  ../output/images/unl_B-1009-2014-11-26-215804-...      0  \n",
       "1  ../output/images/unl_B-1009-2014-11-26-212753-...      0  \n",
       "2  ../output/images/unl_B-1009-2014-11-26-210738-...      1  \n",
       "3  ../output/images/unl_B-1009-2014-11-26-210722-...      1  \n",
       "4  ../output/images/unl_B-1009-2014-11-26-210712-...      1  "
      ]
     },
     "execution_count": 25,
     "metadata": {},
     "output_type": "execute_result"
    }
   ],
   "source": [
    "unlabeled_raw = pd.read_csv('unlabeled/audio_features.csv', index_col='index')\n",
    "unlabeled_labeled = pd.concat([unlabeled_raw, pd.DataFrame(final_labels, columns=['label'])], axis=1)\n",
    "unlabeled_labeled = unlabeled_labeled[['audio_file', 'image_file', 'label']]\n",
    "unlabeled_labeled.head()"
   ]
  },
  {
   "cell_type": "code",
   "execution_count": 26,
   "metadata": {
    "collapsed": false
   },
   "outputs": [
    {
     "data": {
      "text/plain": [
       "array([['../output/audio/unl_B-1009-2014-04-05-145946-12.mp3',\n",
       "        '../output/images/unl_B-1009-2014-04-05-145946-12.mp3.png', 0.0]], dtype=object)"
      ]
     },
     "execution_count": 26,
     "metadata": {},
     "output_type": "execute_result"
    }
   ],
   "source": [
    "unlabeled_labeled.sample(1).values"
   ]
  },
  {
   "cell_type": "code",
   "execution_count": 27,
   "metadata": {
    "collapsed": false
   },
   "outputs": [
    {
     "data": {
      "text/plain": [
       "array([['../output/audio/unl_B-1009-2014-07-18-185057-2.mp3',\n",
       "        '../output/images/unl_B-1009-2014-07-18-185057-2.mp3.png', 1.0]], dtype=object)"
      ]
     },
     "execution_count": 27,
     "metadata": {},
     "output_type": "execute_result"
    }
   ],
   "source": [
    "unlabeled_labeled.sample(1).values"
   ]
  },
  {
   "cell_type": "code",
   "execution_count": null,
   "metadata": {
    "collapsed": true
   },
   "outputs": [],
   "source": []
  }
 ],
 "metadata": {
  "kernelspec": {
   "display_name": "Python 3",
   "language": "python",
   "name": "python3"
  },
  "language_info": {
   "codemirror_mode": {
    "name": "ipython",
    "version": 3
   },
   "file_extension": ".py",
   "mimetype": "text/x-python",
   "name": "python",
   "nbconvert_exporter": "python",
   "pygments_lexer": "ipython3",
   "version": "3.4.3"
  }
 },
 "nbformat": 4,
 "nbformat_minor": 0
}
